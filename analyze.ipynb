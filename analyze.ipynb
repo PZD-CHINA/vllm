{
 "cells": [
  {
   "cell_type": "code",
   "execution_count": null,
   "metadata": {},
   "outputs": [],
   "source": [
    "import os\n",
    "import torch\n",
    "\n",
    "from utils.tensor_dump import load_tensors\n",
    "\n"
   ]
  },
  {
   "cell_type": "code",
   "execution_count": null,
   "metadata": {},
   "outputs": [],
   "source": [
    "torch.set_printoptions(profile='full')\n",
    "def compare_tensors(path: str, position_id: int, tag: str):\n",
    "  file_list = os.listdir(path)\n",
    "\n",
    "  def filter_func(fname: str, device: str) -> bool:\n",
    "    elem = fname.split(\"_\")\n",
    "    return elem[0] == device and elem[2] == str(position_id) and elem[3] == tag\n",
    "\n",
    "  for cuda_file in file_list:\n",
    "    if filter_func(cuda_file, \"cuda\"):\n",
    "      for cpu_file in file_list:\n",
    "        if filter_func(cpu_file, \"cpu\"):\n",
    "          print(\"compare: {} and {}\".format(cuda_file, cpu_file))\n",
    "          cpu_tensor = torch.load(os.path.join(path, cpu_file))[0]\n",
    "          cuda_tensor = torch.load(os.path.join(path, cuda_file))[0]\n",
    "          print(cpu_tensor.size())\n",
    "          print(cuda_tensor.size())\n",
    "          # print(cpu_tensor)\n",
    "          # print(cuda_tensor)\n",
    "          print(cpu_tensor[:,0])\n",
    "          print(cuda_tensor[:,0])\n",
    "          max_diff = (cpu_tensor - cuda_tensor).abs().max() \n",
    "          print(\"max_diff: {}\".format(max_diff))\n",
    "          print(\"-----------------------------\")\n",
    "          assert torch.allclose(cuda_tensor, cpu_tensor)\n",
    "\n",
    "compare_tensors(\"/root/vllm/tensors/\", 0, \"final\")"
   ]
  },
  {
   "cell_type": "code",
   "execution_count": 41,
   "metadata": {},
   "outputs": [
    {
     "name": "stdout",
     "output_type": "stream",
     "text": [
      "max_diff: 8.821487426757812e-06\n",
      "tensor([3.3582e-11, 3.4702e-12, 6.9577e-01, 2.0882e-09, 3.3022e-09, 2.1645e-10,\n",
      "        1.8608e-09, 1.3997e-10, 3.0255e-10, 3.2734e-10, 6.3559e-11, 1.7852e-10,\n",
      "        1.9816e-06, 1.1011e-01, 4.6696e-09, 1.4018e-10, 3.3603e-11, 1.0441e-09,\n",
      "        6.3565e-11, 2.2148e-10])\n",
      "tensor([3.3582e-11, 3.4701e-12, 6.9576e-01, 2.0882e-09, 3.3022e-09, 2.1645e-10,\n",
      "        1.8608e-09, 1.3997e-10, 3.0255e-10, 3.2733e-10, 6.3559e-11, 1.7852e-10,\n",
      "        1.9815e-06, 1.1011e-01, 4.6696e-09, 1.4018e-10, 3.3604e-11, 1.0441e-09,\n",
      "        6.3565e-11, 2.2148e-10])\n"
     ]
    }
   ],
   "source": [
    "cpu_tensor = torch.load(\"/root/vllm/benchmarks/cpu\")\n",
    "cuda_tensor = torch.load(\"/root/vllm/benchmarks/cuda\").cpu()\n",
    "max_diff = (cpu_tensor - cuda_tensor).abs().max() \n",
    "print(\"max_diff: {}\".format(max_diff))\n",
    "print(cpu_tensor[0,0:20])\n",
    "print(cuda_tensor[0,0:20])\n"
   ]
  },
  {
   "cell_type": "markdown",
   "metadata": {},
   "source": [
    "CPU\n",
    "hidden: tensor([[-0.3567, -2.8620,  3.0712,  ..., -2.4590, -1.7950,  0.0178]])\n",
    "logits: tensor([[-1.0825, -3.3523, 22.6718,  ..., -0.7116, -1.3651,  3.8542]])\n",
    "probs: tensor([[3.3582e-11, 3.4702e-12, 6.9577e-01,  ..., 4.8661e-11, 2.5315e-11,\n",
    "         4.6785e-09]])\n",
    "logprobs: tensor([[-24.1170, -26.3868,  -0.3627,  ..., -23.7461, -24.3996, -19.1803]])\n",
    "next: tensor([2])\n",
    "\n",
    "hidden: tensor([[-0.3567, -2.8620,  3.0712,  ..., -2.4590, -1.7950,  0.0178]],\n",
    "       device='cuda:0')\n",
    "logits: tensor([[-1.0825, -3.3523, 22.6718,  ..., -0.7116, -1.3651,  3.8542]],\n",
    "       device='cuda:0')\n",
    "probs: tensor([[3.3582e-11, 3.4701e-12, 6.9576e-01,  ..., 4.8661e-11, 2.5315e-11,\n",
    "         4.6785e-09]], device='cuda:0')\n",
    "logprobs: tensor([[-24.1170, -26.3868,  -0.3627,  ..., -23.7461, -24.3996, -19.1803]],\n",
    "       device='cuda:0')\n",
    "next: tensor([13], device='cuda:0')"
   ]
  },
  {
   "cell_type": "code",
   "execution_count": null,
   "metadata": {},
   "outputs": [],
   "source": [
    "tensor([    1,   306,  1996,   596, 18872,   304, 10683,  1749,  2669,  1813,\n",
    "         1048,  5798,  4080,  2866,  1461, 29879,  7927,  7598,   297,  1771,\n",
    "          275, 29890,  1662,   363,   278, 21411,   310,   263,  3271, 20348,\n",
    "          297,  1771,   275, 29890,  1662, 29892,  8314, 29889,   306,   674,\n",
    "         2367,   366,  2999,  2472,   393,   366,   505,   304,  2050,  1316,\n",
    "          408,   278,  8118,   515,   278,  2246, 24034,  6515,  7395, 29892,\n",
    "          322,  3646, 29361, 29889,  1938,   366,  2274, 29973,     0,     0,\n",
    "            0,     0], device='cuda:0')\n",
    "tensor([13,  0,  0,  0,  0,  0,  0,  0], device='cuda:0')\n",
    "tensor([13,  0,  0,  0,  0,  0,  0,  0], device='cuda:0')\n",
    "tensor([12148,     0,     0,     0,     0,     0,     0,     0],\n",
    "       device='cuda:0')\n",
    "tensor([3867,    0,    0,    0,    0,    0,    0,    0], device='cuda:0')\n",
    "tensor([592,   0,   0,   0,   0,   0,   0,   0], device='cuda:0')\n",
    "tensor([411,   0,   0,   0,   0,   0,   0,   0], device='cuda:0')\n",
    "tensor([278,   0,   0,   0,   0,   0,   0,   0], device='cuda:0')\n",
    "tensor([337,   0,   0,   0,   0,   0,   0,   0], device='cuda:0')\n",
    "tensor([17625,     0,     0,     0,     0,     0,     0,     0],\n",
    "       device='cuda:0')\n",
    "tensor([1426,    0,    0,    0,    0,    0,    0,    0], device='cuda:0')\n",
    "tensor([363,   0,   0,   0,   0,   0,   0,   0], device='cuda:0')\n",
    "tensor([278,   0,   0,   0,   0,   0,   0,   0], device='cuda:0')\n",
    "tensor([5798,    0,    0,    0,    0,    0,    0,    0], device='cuda:0')\n",
    "tensor([4080,    0,    0,    0,    0,    0,    0,    0], device='cuda:0')\n",
    "tensor([2866,    0,    0,    0,    0,    0,    0,    0], device='cuda:0')\n",
    "tensor([1461,    0,    0,    0,    0,    0,    0,    0], device='cuda:0')\n",
    "tensor([29879,     0,     0,     0,     0,     0,     0,     0],\n",
    "       device='cuda:0')\n",
    "tensor([7927,    0,    0,    0,    0,    0,    0,    0], device='cuda:0')\n",
    "tensor([7598,    0,    0,    0,    0,    0,    0,    0], device='cuda:0')\n",
    "tensor([297,   0,   0,   0,   0,   0,   0,   0], device='cuda:0')\n",
    "tensor([1771,    0,    0,    0,    0,    0,    0,    0], device='cuda:0')\n",
    "tensor([275,   0,   0,   0,   0,   0,   0,   0], device='cuda:0')\n",
    "tensor([29890,     0,     0,     0,     0,     0,     0,     0],\n",
    "       device='cuda:0')\n",
    "tensor([1662,    0,    0,    0,    0,    0,    0,    0], device='cuda:0')\n",
    "tensor([2669,    0,    0,    0,    0,    0,    0,    0], device='cuda:0')\n",
    "tensor([1813,    0,    0,    0,    0,    0,    0,    0], device='cuda:0')\n",
    "tensor([29892,     0,     0,     0,     0,     0,     0,     0],\n",
    "       device='cuda:0')\n",
    "tensor([12515,     0,     0,     0,     0,     0,     0,     0],\n",
    "       device='cuda:0')\n",
    "tensor([297,   0,   0,   0,   0,   0,   0,   0], device='cuda:0')\n",
    "tensor([3458,    0,    0,    0,    0,    0,    0,    0], device='cuda:0')\n",
    "tensor([278,   0,   0,   0,   0,   0,   0,   0], device='cuda:0')\n",
    "tensor([21411,     0,     0,     0,     0,     0,     0,     0],\n",
    "       device='cuda:0')\n",
    "tensor([310,   0,   0,   0,   0,   0,   0,   0], device='cuda:0')\n",
    "tensor([263,   0,   0,   0,   0,   0,   0,   0], device='cuda:0')\n",
    "tensor([3271,    0,    0,    0,    0,    0,    0,    0], device='cuda:0')\n",
    "tensor([20348,     0,     0,     0,     0,     0,     0,     0],\n",
    "       device='cuda:0')"
   ]
  },
  {
   "cell_type": "markdown",
   "metadata": {},
   "source": []
  }
 ],
 "metadata": {
  "kernelspec": {
   "display_name": "Python 3",
   "language": "python",
   "name": "python3"
  },
  "language_info": {
   "codemirror_mode": {
    "name": "ipython",
    "version": 3
   },
   "file_extension": ".py",
   "mimetype": "text/x-python",
   "name": "python",
   "nbconvert_exporter": "python",
   "pygments_lexer": "ipython3",
   "version": "3.8.10"
  }
 },
 "nbformat": 4,
 "nbformat_minor": 2
}
